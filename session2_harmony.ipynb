{
 "cells": [
  {
   "cell_type": "markdown",
   "metadata": {},
   "source": [
    "### Installation:\n",
    "```\n",
    "module load anaconda3\n",
    "conda create --name env_teaching\n",
    "conda activate env_teaching\n",
    "\n",
    "conda install ipykernel -y -q\n",
    "python -m ipykernel install --user --name env_teaching\n",
    "\n",
    "conda install -c conda-forge scanpy python-igraph leidenalg\n",
    "pip install harmonypy\n",
    "pip install --user scikit-misc\n",
    "pip install openpyxl\n",
    "```"
   ]
  },
  {
   "cell_type": "markdown",
   "metadata": {},
   "source": [
    "## Introduction to scRNA-seq integration\n",
    "In this practical, we will illustrate the use of Harmony as a possible alternative to the Seurat integration workflow. Compared to other algorithms, Harmony notably presents the following advantages (Korsunsky et al. 2019, Tran et al. 2020):\n",
    "\n",
    "  -Possibility to integrate data across several variables (for example, by experimental batch and by condition)\n",
    "  \n",
    "  -Significant gain in speed and lower memory requirements for integration of large datasets\n",
    "    \n",
    "#### Harmony\n",
    "Harmony applies a transformation to the principal component (PCs) values, using all available PCs, e.g. as pre-computed within the scanpy workflow. In this space of transformed PCs, Harmony uses k-means clustering to delineate clusters, seeking to define clusters with maximum “diversity”. The diversity of each cluster reflects whether it contains balanced amounts of cells from each of the batches (donor, condition, tissue, technology…) we seek to integrate on, as should be observed in a well-integrated dataset. After defining diverse clusters, Harmony determines how much a cell’s batch identity impacts on its PC coordinates, and applies a correction to “shift” the cell towards the centroid of the cluster it belongs to. Cells are projected again using these corrected PCs, and the process is repeated iteratively until convergence.\n",
    "\n",
    "#### Integration goals\n",
    "The following tutorial is designed to give you an overview of the kinds of comparative analyses on complex cell types that are possible using the Harmony integration procedure. Here, we address a few key goals:\n",
    "\n",
    "  -Compare unitegrated and integrated datasets with UMAP visualisation\n",
    "  \n",
    "  -Create an ‘integrated’ data assay for downstream analysis\n",
    "  \n",
    "  -Identify cell types that are present in both datasets"
   ]
  },
  {
   "cell_type": "code",
   "execution_count": null,
   "metadata": {},
   "outputs": [],
   "source": [
    "import scanpy as sc\n",
    "import harmonypy as hm\n",
    "import pandas as pd\n",
    "#import anndata as ad\n",
    "import numpy as np\n",
    "\n",
    "%config InlineBackend.figure_format = 'retina'\n",
    "%matplotlib inline\n",
    "\n",
    "import matplotlib as mpl\n",
    "import matplotlib.pyplot as plt\n",
    "#import seaborn as sns\n",
    "\n",
    "DPI=300\n",
    "FONTSIZE=20 #42\n",
    "\n",
    "sc.settings.verbosity = 3  # verbosity: errors (0), warnings (1), info (2), hints (3)\n",
    "sc.logging.print_header()\n",
    "sc.settings.set_figure_params(scanpy = True, dpi=80, transparent=True, vector_friendly = True, dpi_save=DPI) \n",
    "from matplotlib import rcParams\n",
    "rcParams['pdf.fonttype'] = 42"
   ]
  },
  {
   "cell_type": "code",
   "execution_count": null,
   "metadata": {},
   "outputs": [],
   "source": [
    "import warnings\n",
    "warnings.filterwarnings('ignore')"
   ]
  },
  {
   "cell_type": "markdown",
   "metadata": {},
   "source": [
    "### Read in the data\n",
    "\n",
    "Read in the count matrix into an AnnData object, which holds many slots for annotations and different representations of the data. It also comes with its own HDF5-based file format: .h5ad.\n",
    "\n",
    "The data is from the paper:\n",
    "\n",
    "Lee, HO., Hong, Y., Etlioglu, H.E. et al. Lineage-dependent gene expression programs influence the immune landscape of colorectal cancer. Nat Genet 52, 594–603 (2020). https://doi.org/10.1038/s41588-020-0636-z\n",
    "\n",
    "scRNA-seq was performed on colorectal cancer patient samples. \n",
    "\n",
    "In the study 2 datasets were generated, a Korean dataset (SMC) and a Belgian dataset (KUL). For the purpose of this tutorial, only the immune cells are included in the dataset (i.e. cancer cells and stromal cells have been removed).\n",
    "\n",
    "First download the data from QMplus (session2_SMC_KUL_immune_RAWcounts.h5ad) and upload to a suitable directory on your storage space on apocrita. Next, read in the data (you will need to change the path in the cell below) and begin the analysis. "
   ]
  },
  {
   "cell_type": "code",
   "execution_count": null,
   "metadata": {},
   "outputs": [],
   "source": [
    "### Read in data\n",
    "# See anndata-tutorials/getting-started for a more comprehensive introduction to AnnData.\n",
    "\n",
    "adata = sc.read('/data/home/hww990/Notebooks/Teaching/session2_SMC_KUL_immune_RAWcounts.h5ad')\n",
    "adata"
   ]
  },
  {
   "cell_type": "code",
   "execution_count": null,
   "metadata": {},
   "outputs": [],
   "source": [
    "### Print max and min counts in dataset\n",
    "print (np.max(adata.X))\n",
    "print (np.min(adata.X))"
   ]
  },
  {
   "cell_type": "code",
   "execution_count": null,
   "metadata": {},
   "outputs": [],
   "source": [
    "### The data has already been cleaned and filtered by:\n",
    "# Only cells with percentage mitochondrial reads < 10% were retained\n",
    "# Only cells with number of detected genes (n_genes_by_counts) > 300 were retained\n",
    "\n",
    "### Therefore we can skip the QC filtering step in this example (but it is a very important step normally!)\n",
    "\n",
    "### Print QC metrics\n",
    "\n",
    "sc.pl.violin(adata, ['n_genes_by_counts', 'total_counts', 'pct_counts_mt', 'pct_counts_ribo'],\n",
    "             jitter=0, multi_panel=True, groupby='cell_source')"
   ]
  },
  {
   "cell_type": "markdown",
   "metadata": {},
   "source": [
    "### Normalise + log transform + HVG\n",
    "\n",
    "Up to this point the data is only available as a count matrix. Counts are representative of molecules that were captured in the scRNA-seq experiment. As not all mRNA molecules in a cell are captured, there is a variability in the total number of counts detected between cells that results from both the number of molecules that were in the cells, and the sampling. As we cannot assume that all cells contain an equal number of molecules (cell sizes can differ substantially), we have to estimate the number of molecules that were initially in the cells. In fact, we don't estimate the exact number of molecules, but instead estimate cell-specific factors that should be proportional to the true number of molecules. These are called size factors. Normalized expression values are calculated by dividing the measured counts by the size factor for the cell.\n",
    "\n",
    "The basic preprocessing includes assuming all size factors are equal (library size normalization to counts per million - CPM) and log-transforming the count data."
   ]
  },
  {
   "cell_type": "code",
   "execution_count": null,
   "metadata": {},
   "outputs": [],
   "source": [
    "# keep raw \n",
    "adata.layers[\"raw\"] = adata.X.copy() # preserve counts\n",
    "    \n",
    "# normalize + log1p \n",
    "sc.pp.normalize_total(adata, target_sum=1e4, inplace=True)\n",
    "adata.layers[\"normalised\"] = adata.X.copy()\n",
    "sc.pp.log1p(adata)\n",
    "\n",
    "adata.layers[\"log1p\"] = adata.X.copy()"
   ]
  },
  {
   "cell_type": "code",
   "execution_count": null,
   "metadata": {},
   "outputs": [],
   "source": [
    "adata.raw = adata # keep normalised log1p data in adata.raw, can access later with adata.raw.to_adata()"
   ]
  },
  {
   "cell_type": "code",
   "execution_count": null,
   "metadata": {},
   "outputs": [],
   "source": [
    "print(adata.X.shape)\n",
    "print(adata.raw.X.shape)"
   ]
  },
  {
   "cell_type": "markdown",
   "metadata": {},
   "source": [
    "The count data has been normalized and log-transforme d with an offset of 1. The latter is performed to normalize the data distributions. The offset of 1 ensures that zero counts map to zeros. We keep this data in the '.raw' part of the AnnData object as it will be used to visualize gene expression and perform statistical tests such as computing marker genes for clusters.\n",
    "\n",
    "Notice that we set the .raw attribute of the AnnData object to the normalized and logarithmized raw gene expression for later use in differential testing and visualizations of gene expression. This simply freezes the state of the AnnData object."
   ]
  },
  {
   "cell_type": "markdown",
   "metadata": {},
   "source": [
    "### HVG\n",
    "\n",
    "We extract highly variable genes (HVGs) to further reduce the dimensionality of the dataset and include only the most informative genes. Genes that vary substantially across the dataset are informative of the underlying biological variation in the data. HVGs are used for clustering, trajectory inference, and dimensionality reduction/visualization, while the full data set is used for computing marker genes, differential testing, cell cycle scoring, and visualizing expression values on the data.\n",
    "\n",
    "**Expects logarithmized data, except when flavor='seurat_v3' in which count data is expected.**"
   ]
  },
  {
   "cell_type": "code",
   "execution_count": null,
   "metadata": {},
   "outputs": [],
   "source": [
    "### Select highly variable genes for each batch i.e. dataset the cells are from (cell_source)\n",
    "sc.pp.highly_variable_genes(adata,\n",
    "                            subset=True, # subset for integration (but full lognorm data in .raw)\n",
    "                            layer='raw',\n",
    "                            flavor='seurat_v3',\n",
    "                            n_top_genes=2000,\n",
    "                            span=0.3,\n",
    "                            min_disp=0.5,\n",
    "                            min_mean=0.0125,\n",
    "                            max_mean=3,\n",
    "                            batch_key='cell_source'\n",
    "                           )"
   ]
  },
  {
   "cell_type": "markdown",
   "metadata": {},
   "source": [
    "The result of the previous highly-variable-genes detection is stored as an annotation in .var.highly_variable and auto-detected by PCA and hence, sc.pp.neighbors and subsequent manifold/graph tools.\n",
    "\n",
    "Regress out effects of total counts per cell and the percentage of mitochondrial genes expressed. Scale the data to unit variance."
   ]
  },
  {
   "cell_type": "code",
   "execution_count": null,
   "metadata": {},
   "outputs": [],
   "source": [
    "print(adata.X.shape)\n",
    "print(adata.raw.X.shape)"
   ]
  },
  {
   "cell_type": "markdown",
   "metadata": {},
   "source": [
    "Regress out effects of total counts per cell and the percentage of mitochondrial genes expressed. Scale the data to unit variance.\n",
    "\n",
    "Scale each gene to unit variance. Clip values exceeding standard deviation 10."
   ]
  },
  {
   "cell_type": "code",
   "execution_count": null,
   "metadata": {},
   "outputs": [],
   "source": [
    "var_to_regress = ['n_genes_by_counts','pct_counts_mt']\n",
    "### Regress out effects from total counts per cell and percentage of mitochondrial genes\n",
    "sc.pp.regress_out(adata, var_to_regress)\n",
    "\n",
    "### Scale each gene to unit variance. Clip values exceeding standard deviation 10.\n",
    "sc.pp.scale(adata, max_value=10)"
   ]
  },
  {
   "cell_type": "markdown",
   "metadata": {},
   "source": [
    "\t\n",
    "Dimensionality reduction with PCA (Principal Component Analysis)\n",
    "\n",
    "Reduce the dimensionality of the data by running principal component analysis (PCA), which reveals the main axes of variation and denoises the data.\n",
    "\n",
    "Let us inspect the contribution of single PCs to the total variance in the data. This gives us information about how many PCs we should consider in order to compute the neighborhood relations of cells, e.g. used in the clustering functions sc.tl.louvain/leiden(). In our experience, often a rough estimate of the number of PCs does fine."
   ]
  },
  {
   "cell_type": "code",
   "execution_count": null,
   "metadata": {},
   "outputs": [],
   "source": [
    "### calculate PCA\n",
    "sc.tl.pca(adata, svd_solver='arpack')\n",
    "### Scatter plot for PCA, but we will not use later on\n",
    "sc.pl.pca(adata, color=['n_genes_by_counts','pct_counts_mt'], color_map='viridis')\n",
    "### Estimate number of PCs to use: (rough estimate is often fine)\n",
    "sc.pl.pca_variance_ratio(adata, log=True, n_pcs=50)"
   ]
  },
  {
   "cell_type": "markdown",
   "metadata": {},
   "source": [
    "### Computing and embedding the neighborhood graph\n",
    "\n",
    "Let us compute the neighborhood graph of cells using the PCA representation of the data matrix. You might simply use default values here.\n",
    "\n",
    "Number of neighbours depends on the size of the dataset (usually can get away with using 15 neighbours) \n",
    "\n",
    "We use 20 PCs\n",
    "\n",
    "We suggest embedding the graph in two dimensions using UMAP. It is potentially more faithful to the global connectivity of the manifold than tSNE, i.e., it better preserves trajectories."
   ]
  },
  {
   "cell_type": "code",
   "execution_count": null,
   "metadata": {},
   "outputs": [],
   "source": [
    "#set n_pcs to use\n",
    "n_pcs = 20"
   ]
  },
  {
   "cell_type": "markdown",
   "metadata": {},
   "source": [
    "### Plot data prior to integration (batch correction)"
   ]
  },
  {
   "cell_type": "code",
   "execution_count": null,
   "metadata": {},
   "outputs": [],
   "source": [
    "### compute neighbourhood graph\n",
    "sc.pp.neighbors(adata, n_neighbors=15, n_pcs=n_pcs, random_state=7)\n",
    "### embed neighbourhood graph\n",
    "sc.tl.umap(adata)"
   ]
  },
  {
   "cell_type": "code",
   "execution_count": null,
   "metadata": {},
   "outputs": [],
   "source": [
    "sc.pl.umap(adata, color=['total_counts','n_genes_by_counts','pct_counts_mt','pct_counts_ribo',\"doublet_score\"], color_map='viridis',\n",
    "          vmax = [15000,6000,20,50,0.5], ncols=5)\n",
    "sc.pl.umap(adata, color=[\"cell_source\"], color_map=\"viridis\", palette='Set1')\n",
    "sc.pl.umap(adata, color=[\"Patient\"], color_map=\"viridis\")\n",
    "###sc.pl.umap(adata, color=['Annotation_scVI'])"
   ]
  },
  {
   "cell_type": "markdown",
   "metadata": {},
   "source": [
    "### Integrate (batch correct) the data using Harmony\n",
    "\n",
    "Harmony applies a transformation to the principal component (PCs) values, using all available PCs, e.g. as pre-computed within the scanpy workflow. In this space of transformed PCs, Harmony uses k-means clustering to delineate clusters, seeking to define clusters with maximum “diversity”. The diversity of each cluster reflects whether it contains balanced amounts of cells from each of the batches (donor, condition, tissue, technology…) we seek to integrate on, as should be observed in a well-integrated dataset. After defining diverse clusters, Harmony determines how much a cell’s batch identity impacts on its PC coordinates, and applies a correction to “shift” the cell towards the centroid of the cluster it belongs to. Cells are projected again using these corrected PCs, and the process is repeated iteratively until convergence.\n",
    "\n",
    "In this instance we want to batch correct the data, due to potential technical differences between the 2 datasets (SMC and KUL). In the metadata (adata.obs) there is a column called 'cell_source' which records whether each cell is from the SMC and KUL dataset. We then run Harmony, which corrects the PCs. The Harmony corrected PCs are then added back into the adata object, stored within adata.obsm['X_pca_harmony']"
   ]
  },
  {
   "cell_type": "code",
   "execution_count": null,
   "metadata": {},
   "outputs": [],
   "source": [
    "### Run Harmony to integrate data\n",
    "# Harmony corrects the principal components\n",
    "cat_var_to_regress = ['cell_source']\n",
    "ho = hm.run_harmony(adata.obsm['X_pca'], adata.obs, cat_var_to_regress, max_iter_harmony=20)\n",
    "adata.obsm['X_pca_harmony'] = np.transpose(ho.Z_corr) # add corrected Harmony principal components to "
   ]
  },
  {
   "cell_type": "markdown",
   "metadata": {},
   "source": [
    "### Construct neighbour graph and embed umap using Harmony corrected PCs"
   ]
  },
  {
   "cell_type": "code",
   "execution_count": null,
   "metadata": {},
   "outputs": [],
   "source": [
    "### Construct neighbourhood graph using corrected principal components generated with Harmony\n",
    "sc.pp.neighbors(adata, n_neighbors=15, n_pcs=n_pcs, use_rep='X_pca_harmony', random_state=7)\n",
    "### embed neighbourhood graph\n",
    "sc.tl.umap(adata)"
   ]
  },
  {
   "cell_type": "code",
   "execution_count": null,
   "metadata": {},
   "outputs": [],
   "source": [
    "### Plot umaps of quality control metrics\n",
    "sc.pl.umap(adata, color=['total_counts','n_genes_by_counts','pct_counts_mt','pct_counts_ribo',\"doublet_score\"], color_map='viridis',\n",
    "          vmax = [15000,6000,20,50,0.5], ncols=5)\n",
    "### \n",
    "sc.pl.umap(adata, color=[\"cell_source\"], color_map=\"viridis\", palette='Set1')\n",
    "sc.pl.umap(adata, color=[\"Patient\"], color_map=\"viridis\")\n",
    "###sc.pl.umap(adata, color=['Annotation_scVI','Annotation_scVI_detailed'])"
   ]
  },
  {
   "cell_type": "markdown",
   "metadata": {},
   "source": [
    "### Clustering and cell annotation"
   ]
  },
  {
   "cell_type": "markdown",
   "metadata": {},
   "source": [
    "Annotate the following cell types:\n",
    "    - B cells (marker genes include: CD79A, BANK1)\n",
    "    - Plasma cells (marker genes: IGHG3, JCHAIN)\n",
    "    - T cells (marker genes: CD68, CD14, LYZ)\n",
    "    - T-NK-ILC (T cells/natural killer cells/innate lymphoid cells) (marker genes include: TRAC, CD3D)"
   ]
  },
  {
   "cell_type": "code",
   "execution_count": null,
   "metadata": {},
   "outputs": [],
   "source": [
    "leiden_res = 0.4\n",
    "sc.tl.leiden(adata, resolution=leiden_res)\n",
    "fig, (ax1, ax2) = plt.subplots(1, 2, figsize=(12,4), gridspec_kw={'wspace':0.5})\n",
    "sc.pl.umap(adata, color='leiden', ax=ax1, show=False)\n",
    "sc.pl.umap(adata, color='leiden', ax=ax2, show=False, legend_loc='on data')"
   ]
  },
  {
   "cell_type": "code",
   "execution_count": null,
   "metadata": {},
   "outputs": [],
   "source": [
    "marker_dict = {'B':['CD79A','BANK1'],\n",
    "               'Plasma':['IGHG3','JCHAIN'],\n",
    "               'Myeloid':[\"CD68\", \"CD14\", \"LYZ\"],\n",
    "               'T-NK-ILC':['TRAC','CD3D'],\n",
    "               'Cycling':['MKI67','TOP2A','PCNA'] ### Cycling cells can cluster together - if this was hiding biological information what could we do to avoid this? \n",
    "              }"
   ]
  },
  {
   "cell_type": "code",
   "execution_count": null,
   "metadata": {},
   "outputs": [],
   "source": [
    "sc.pl.umap(adata, color=['CD79A','BANK1','IGHG3','JCHAIN','TRAC','CD3D','CD68','LYZ', 'MKI67','TOP2A','PCNA'])"
   ]
  },
  {
   "cell_type": "markdown",
   "metadata": {},
   "source": [
    "### Finding markers for cluster annotation\n",
    "\n",
    "Differential expression to get DE genes upregulated per cluster : Let us compute a ranking for the highly differential genes in each cluster. For this, by default, the .raw attribute of AnnData is used in case it has been initialized before."
   ]
  },
  {
   "cell_type": "code",
   "execution_count": null,
   "metadata": {},
   "outputs": [],
   "source": [
    "### Find marker genes\n",
    "#del adata.uns['log1p']\n",
    "sc.tl.rank_genes_groups(adata, 'leiden', method='wilcoxon',pts=True, use_raw=True)\n",
    "sc.pl.rank_genes_groups(adata, n_genes=15, sharey=False)\n",
    "\n",
    "pval_thresh = 0.05\n",
    "log2fc_thresh = 0.25\n",
    "pct_cutoff = 0.1\n",
    "cluster_de_genes = dict()\n",
    "for cluster in sorted(set(adata.obs['leiden'])):\n",
    "    cluster_de_genes[cluster] = sc.get.rank_genes_groups_df(adata,\n",
    "                                                            group=cluster, \n",
    "                                                            key='rank_genes_groups', \n",
    "                                                            pval_cutoff=pval_thresh, \n",
    "                                                            log2fc_min=log2fc_thresh, \n",
    "                                                            log2fc_max=None).sort_values('logfoldchanges',ascending=False)\n",
    "    cluster_de_genes[cluster] = cluster_de_genes[cluster][cluster_de_genes[cluster]['pct_nz_group'] > pct_cutoff]\n",
    "\n",
    "### save results to excel to view later\n",
    "with pd.ExcelWriter('DE_results_cellType.xlsx') as writer:  \n",
    "    for cluster in list(cluster_de_genes.keys()):      \n",
    "        cluster_de_genes[cluster].to_excel(writer, sheet_name='cluster{}'.format(cluster))"
   ]
  },
  {
   "cell_type": "code",
   "execution_count": null,
   "metadata": {},
   "outputs": [],
   "source": [
    "### plot dotplot of marker genes\n",
    "sc.pl.rank_genes_groups_dotplot(\n",
    "    adata,\n",
    "    groupby=\"leiden\",\n",
    "    key=\"rank_genes_groups\",\n",
    "    var_names=marker_dict,\n",
    "    values_to_plot=\"logfoldchanges\",\n",
    "    cmap=\"bwr\",\n",
    "    vmin=-4,\n",
    "    vmax=4,\n",
    "    min_logfoldchange=1,\n",
    "    colorbar_title=\"log fold change\",\n",
    "    save=\"marker_dotplot.pdf\",\n",
    "    show=True,\n",
    ")"
   ]
  },
  {
   "cell_type": "markdown",
   "metadata": {},
   "source": [
    "### Annotate clusters - note that yours may be different if you've used a different resolution for clustering!"
   ]
  },
  {
   "cell_type": "code",
   "execution_count": null,
   "metadata": {},
   "outputs": [],
   "source": [
    "### annotate cells using marker genes expressed within each cluster\n",
    "annotation_dict = {'0':'T-NK-ILC',\n",
    "                   '1':'T-NK-ILC',\n",
    "                   '2':'Myeloid',\n",
    "                   '3':'T-NK-ILC',\n",
    "                   '4':'Myeloid',\n",
    "                   '5':'B',\n",
    "                   '6':'Plasma',\n",
    "                   '7':'T-NK-ILC',\n",
    "                   '8':'T-NK-ILC',\n",
    "                   '9':'Cycling Myeloid/T',\n",
    "                   '10':'Myeloid',\n",
    "                   '11':'Myeloid'\n",
    "                  }\n",
    "\n",
    "adata.obs['Cell_type'] = adata.obs['leiden'].map(annotation_dict).astype('category')\n",
    "print(adata.X.shape)\n",
    "sc.pl.umap(adata, color=['leiden','Cell_type'])"
   ]
  },
  {
   "cell_type": "markdown",
   "metadata": {},
   "source": [
    "### Annotation of subpopulations in T-NK-ILC\n",
    "Often annotating the major cell types is the first stage of an analysis. Often we are more interested in particular sub-populatons of a cell type. \n",
    "Next we subset the T-NK-ILC cells and annotate different sub-populations.\n",
    "\n",
    "Often it is usual after subsetting a cell type to re-call HVGs and repeat the PCA, integration, UMAP and clustering steps because the analysis is then based on HVGs within a cell type. In this tutorial we won't do this however, but to do it you could run something like the below code before going onto to repeat the analysis:\n",
    "\n",
    "```\n",
    "adata_raw = sc.read('session2_SMC_KUL_immune_RAWcounts.h5ad') # read in raw counts\n",
    "adata = adata_raw[adata.obs_names] # subset raw counts by cell names in adata object of subsetted T-NK-ILC\n",
    "```\n"
   ]
  },
  {
   "cell_type": "code",
   "execution_count": null,
   "metadata": {},
   "outputs": [],
   "source": [
    "### adata shape prior to subsetting:\n",
    "adata.X.shape"
   ]
  },
  {
   "cell_type": "code",
   "execution_count": null,
   "metadata": {},
   "outputs": [],
   "source": [
    "### Subset the adata object using a bool...\n",
    "adata.obs['Cell_type']=='T-NK-ILC'"
   ]
  },
  {
   "cell_type": "code",
   "execution_count": null,
   "metadata": {},
   "outputs": [],
   "source": [
    "### ... actually do the subsetting\n",
    "adata = adata[adata.obs['Cell_type']=='T-NK-ILC']\n",
    "adata"
   ]
  },
  {
   "cell_type": "code",
   "execution_count": null,
   "metadata": {},
   "outputs": [],
   "source": [
    "### adata shape post subsetting:\n",
    "adata.X.shape"
   ]
  },
  {
   "cell_type": "code",
   "execution_count": null,
   "metadata": {},
   "outputs": [],
   "source": [
    "### Find marker genes for just T-NK-ILC\n",
    "#del adata.uns['log1p']\n",
    "sc.tl.rank_genes_groups(adata, 'leiden', method='wilcoxon',pts=True, use_raw=True, key_added='rank_genes_groups_T')\n",
    "sc.pl.rank_genes_groups(adata, n_genes=15, sharey=False, key='rank_genes_groups_T')\n",
    "\n",
    "pval_thresh = 0.05\n",
    "log2fc_thresh = 0.25\n",
    "pct_cutoff = 0.1\n",
    "cluster_de_genes = dict()\n",
    "for cluster in sorted(set(adata.obs['leiden'])):\n",
    "    cluster_de_genes[cluster] = sc.get.rank_genes_groups_df(adata,\n",
    "                                                            group=cluster, \n",
    "                                                            key='rank_genes_groups_T', \n",
    "                                                            pval_cutoff=pval_thresh, \n",
    "                                                            log2fc_min=log2fc_thresh, \n",
    "                                                            log2fc_max=None).sort_values('logfoldchanges',ascending=False)\n",
    "    cluster_de_genes[cluster] = cluster_de_genes[cluster][cluster_de_genes[cluster]['pct_nz_group'] > pct_cutoff]\n",
    "\n",
    "with pd.ExcelWriter('DE_results_TNKILC.xlsx') as writer:  \n",
    "    for cluster in list(cluster_de_genes.keys()):      \n",
    "        cluster_de_genes[cluster].to_excel(writer, sheet_name='cluster{}'.format(cluster))"
   ]
  },
  {
   "cell_type": "code",
   "execution_count": null,
   "metadata": {},
   "outputs": [],
   "source": [
    "### Annotate T-NK-ILC subpopulations\n",
    "marker_dict = {'CD4+ T':['CD4'],\n",
    "               'CD8+ T':['CD8A','CD8B'],\n",
    "               'CD4+ Treg':[\"FOXP3\", \"CTLA4\", \"IL2RA\"],\n",
    "               'NK':['KLRC1','FCER1G']\n",
    "              }"
   ]
  },
  {
   "cell_type": "code",
   "execution_count": null,
   "metadata": {},
   "outputs": [],
   "source": [
    "sc.pl.umap(adata, color=['CD4','CD8A','FOXP3','KLRC1'], vmin=1, vmax='p99', use_raw=True, color_map='plasma_r')"
   ]
  },
  {
   "cell_type": "code",
   "execution_count": null,
   "metadata": {},
   "outputs": [],
   "source": [
    "# delete dendrogram so the dendorgram is recalculated in the next step\n",
    "del(adata.uns['dendrogram_leiden'])"
   ]
  },
  {
   "cell_type": "code",
   "execution_count": null,
   "metadata": {},
   "outputs": [],
   "source": [
    "### plot dotplot of marker genes\n",
    "sc.pl.rank_genes_groups_dotplot(\n",
    "    adata,\n",
    "    groupby=\"leiden\",\n",
    "    key=\"rank_genes_groups_T\",\n",
    "    var_names=marker_dict,\n",
    "    values_to_plot=\"logfoldchanges\",\n",
    "    cmap=\"bwr\",\n",
    "    vmin=-4,\n",
    "    vmax=4,\n",
    "    min_logfoldchange=1,\n",
    "    colorbar_title=\"log fold change\",\n",
    "    save=\"marker_dotplot_TNKILC.pdf\",\n",
    "    show=True,\n",
    ")"
   ]
  },
  {
   "cell_type": "code",
   "execution_count": null,
   "metadata": {},
   "outputs": [],
   "source": [
    "### annotate cells\n",
    "annotation_dict = {'0':'CD4+ T',\n",
    "                   '1':'CD8+ T',\n",
    "                   '3':'CD4+ Treg',\n",
    "                   '7':'NK cells',\n",
    "                   '8':'CD4+ T',\n",
    "                   '9':'Cycling T',\n",
    "                  }\n",
    "\n",
    "adata.obs['Cell_type'] = adata.obs['leiden'].map(annotation_dict).astype('category')\n",
    "print(adata.X.shape)\n",
    "sc.pl.umap(adata, color=['leiden','Cell_type'])"
   ]
  },
  {
   "cell_type": "code",
   "execution_count": null,
   "metadata": {},
   "outputs": [],
   "source": [
    "# Save adata\n",
    "adata.write('SMC_KUL_immune_subset_TNKILC.h5ad')"
   ]
  },
  {
   "cell_type": "code",
   "execution_count": null,
   "metadata": {},
   "outputs": [],
   "source": []
  }
 ],
 "metadata": {
  "kernelspec": {
   "display_name": "teaching",
   "language": "python",
   "name": "teaching"
  },
  "language_info": {
   "codemirror_mode": {
    "name": "ipython",
    "version": 3
   },
   "file_extension": ".py",
   "mimetype": "text/x-python",
   "name": "python",
   "nbconvert_exporter": "python",
   "pygments_lexer": "ipython3",
   "version": "3.12.2"
  }
 },
 "nbformat": 4,
 "nbformat_minor": 4
}
